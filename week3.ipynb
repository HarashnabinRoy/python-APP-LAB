{
 "cells": [
  {
   "cell_type": "code",
   "execution_count": 11,
   "metadata": {},
   "outputs": [
    {
     "name": "stdout",
     "output_type": "stream",
     "text": [
      "school of computing engineering and technology cse 2nd year e1 core\n",
      "school of computing 2nd year e1 core\n"
     ]
    }
   ],
   "source": [
    "# Write a Python class named SRMIST with six attributes school, dept1,\n",
    "# dept2, dept2 and dept3. Add a new attribute specialization and display the\n",
    "# entire attribute and their values of the said class. Now remove the dept1\n",
    "# and dept2 attribute and display the entire attribute with values.\n",
    "\n",
    "class SRMIST:\n",
    "    school= 'school of computing'\n",
    "    \n",
    "a = SRMIST()\n",
    "a.dept1= 'engineering and technology'\n",
    "a.dept2= 'cse'\n",
    "a.dept3= '2nd year'\n",
    "a.dept4=\"e1\"\n",
    "a.special = \"core\"\n",
    "print(a.school,a.dept1,a.dept2,a.dept3,a.dept4,a.special)\n",
    "del a.dept1\n",
    "del a.dept2\n",
    "print(a.school,a.dept3,a.dept4,a.special)\n"
   ]
  },
  {
   "cell_type": "code",
   "execution_count": 12,
   "metadata": {},
   "outputs": [
    {
     "name": "stdout",
     "output_type": "stream",
     "text": [
      "inside ctech\n",
      "CTECH OBJ  True\n",
      "True\n",
      "inside CINTEL\n",
      "cintel OBJ  True\n",
      "True\n",
      "inside NWC\n",
      "newc OBJ  True\n",
      "inside DSBS\n",
      "dsbs OBJ  False\n"
     ]
    }
   ],
   "source": [
    "# Write a Python program to crate four empty classes, CTECH,\n",
    "# # # CINTEL, NWC and DSBS. Now create some instances and check\n",
    "# whether they are instances of the said classes or not. Also, check whether\n",
    "# the said classes are subclasses of the built-in object class or not.\n",
    "class CTECH:\n",
    "    def __init__(self):\n",
    "        print(\"inside ctech\")\n",
    "class CINTEL:\n",
    "    def __init__(self):\n",
    "        print(\"inside CINTEL\")\n",
    "class NWC:\n",
    "    def __init__(self):\n",
    "        print(\"inside NWC\")\n",
    "class DSBS:\n",
    "    def __init__(self):\n",
    "        print(\"inside DSBS\") \n",
    "ct = CTECH()\n",
    "print(\"CTECH OBJ \",isinstance(ct,CTECH))\n",
    "print(issubclass(CTECH, object))\n",
    "cin = CINTEL()\n",
    "print(\"cintel OBJ \",isinstance(cin,CINTEL))\n",
    "print(issubclass(CINTEL, object))\n",
    "nwc= NWC()\n",
    "print(\"newc OBJ \",isinstance(nwc,NWC))\n",
    "# print(issubclass(NWC, object))\n",
    "dsbs = DSBS()\n",
    "print(\"dsbs OBJ \",isinstance(dsbs,NWC))\n",
    "# print(issubclass(DSBS, object))\n"
   ]
  },
  {
   "cell_type": "code",
   "execution_count": 2,
   "metadata": {},
   "outputs": [
    {
     "name": "stdout",
     "output_type": "stream",
     "text": [
      "dept name is SCO\n",
      "dept name is hell\n"
     ]
    }
   ],
   "source": [
    "# Write a program to print the names of the departments students by\n",
    "# creating a Dept class. If no name is passed while creating an object of the\n",
    "# Dept class, then the name should be \"SCO\", otherwise the name should\n",
    "# be equal to the String value passed while creating the object of the Dept\n",
    "# class.\n",
    "class Dept:\n",
    "    deptname=\"\"\n",
    "    def __init__(self,name='SCO'):\n",
    "        self.deptname = name\n",
    "    def pri(self):\n",
    "        print(\"dept name is\",self.deptname)\n",
    "dept1 = Dept()\n",
    "dept1.pri()\n",
    "dept2 = Dept(\"hell\")\n",
    "dept2.pri()\n"
   ]
  },
  {
   "cell_type": "code",
   "execution_count": 3,
   "metadata": {},
   "outputs": [
    {
     "name": "stdout",
     "output_type": "stream",
     "text": [
      "rec1 area 0\n",
      "rec2 area 100\n",
      "rec3 area 200\n"
     ]
    }
   ],
   "source": [
    "# Create a class named 'Rectangle' with two data members- length and\n",
    "# breadth and a function to calculate the area which is 'length*breadth'. The\n",
    "# class has three constructors which are :\n",
    "# 1 - having no parameter - values of both length and breadth are assigned\n",
    "# zero.\n",
    "# 2 - having two numbers as parameters - the two numbers are assigned as\n",
    "# length and breadth respectively.\n",
    "# 3 - having one number as parameter - both length and breadth are\n",
    "# assigned that number.\n",
    "# Now, create objects of the 'Rectangle' class having none, one and two\n",
    "# parameters and print their areas.\n",
    "class Rectangle:\n",
    "    length=0\n",
    "    breadth=0\n",
    "    def area(self):\n",
    "        return self.length*self.breadth\n",
    "    def __init__(self,*args):\n",
    "        if len(args)==0:\n",
    "            self.length=0\n",
    "            self.breadth=0\n",
    "        elif len(args)==1:\n",
    "            self.length=args[0]\n",
    "            self.breadth=args[0]\n",
    "        elif len(args)==2:\n",
    "            self.length=args[0]\n",
    "            self.breadth=args[1]\n",
    "            \n",
    "    \n",
    "\n",
    "    \n",
    "rec1=Rectangle()\n",
    "rec2=Rectangle(10)\n",
    "rec3=Rectangle(10,20)\n",
    "print(\"rec1 area\",rec1.area())\n",
    "print(\"rec2 area\",rec2.area())\n",
    "print(\"rec3 area\",rec3.area())\n",
    "        \n",
    "    "
   ]
  },
  {
   "cell_type": "code",
   "execution_count": 2,
   "metadata": {},
   "outputs": [
    {
     "name": "stdout",
     "output_type": "stream",
     "text": [
      "the datatype of obj prop is <class 'str'>\n",
      "the datatype of obj prop is <class 'list'>\n",
      "the datatype of obj prop is <class 'tuple'>\n",
      "the datatype of obj prop is <class 'int'>\n"
     ]
    }
   ],
   "source": [
    "# Create a class named 'PrintDT' to print various numbers of different\n",
    "# datatypes by creating different functions with the same name\n",
    "# 'python_data’ having a parameter for each datatype. (example : tuple, list,\n",
    "# string)\n",
    "\n",
    "class PrintDT :\n",
    "    def __init__(self,dtype):\n",
    "        self.dtype = dtype\n",
    "    def python_data(self):\n",
    "        print(\"the datatype of obj prop is\",type(self.dtype))\n",
    "a = PrintDT(\"hello\")\n",
    "a.python_data()\n",
    "b = PrintDT([1,2])\n",
    "b.python_data()\n",
    "d = PrintDT((2,3,2))\n",
    "d.python_data()\n",
    "c = PrintDT(1)\n",
    "c.python_data()"
   ]
  },
  {
   "cell_type": "code",
   "execution_count": 11,
   "metadata": {},
   "outputs": [
    {
     "name": "stdout",
     "output_type": "stream",
     "text": [
      "40000\n",
      "30000\n"
     ]
    },
    {
     "data": {
      "text/plain": [
       "15000"
      ]
     },
     "execution_count": 11,
     "metadata": {},
     "output_type": "execute_result"
    }
   ],
   "source": [
    "# A student from SRMIST has his/her money deposited Rs.15000,\n",
    "# Rs.30000 and Rs. 40,000 in banks-CUB, HDFC and Indian Bank\n",
    "# respectively. We have to print the money deposited by him/her in a\n",
    "# particular bank.\n",
    "# Create a class named 'Banks_SRMIST' with a function 'getBalance'\n",
    "# which returns 0. Make its three subclasses named 'CUB', 'HDFC' and\n",
    "# 'Indian_Bank' with a function with the same name 'getBalance' which\n",
    "# returns the amount deposited in that particular bank. Call the function\n",
    "# 'getBalance' by the object of each of the three banks.\n",
    "\n",
    "class Banks_SRMIST:\n",
    "    indian=0\n",
    "    hdfc=0\n",
    "    cub=0\n",
    "    def getBalance(self):\n",
    "        return 0\n",
    "class CUB(Banks_SRMIST):\n",
    "    def __init__(self):\n",
    "        self.cub = 15000\n",
    "    def getBalance(self):\n",
    "        return self.cub\n",
    "class HDFC(Banks_SRMIST):\n",
    "    def __init__(self):\n",
    "        self.hdfc = 30000\n",
    "    def getBalance(self):\n",
    "        return self.hdfc\n",
    "class Indian_Bank(Banks_SRMIST):\n",
    "    def __init__(self):\n",
    "        self.indian = 40000\n",
    "    def getBalance(self):\n",
    "        return self.indian\n",
    "\n",
    "hd = HDFC()\n",
    "ind = Indian_Bank()\n",
    "cu = CUB()\n",
    "print(ind.getBalance())\n",
    "print(hd.getBalance())\n",
    "cu.getBalance()\n"
   ]
  },
  {
   "cell_type": "code",
   "execution_count": 6,
   "metadata": {},
   "outputs": [
    {
     "name": "stdout",
     "output_type": "stream",
     "text": [
      "2 42\n",
      "162\n",
      "5 24\n"
     ]
    }
   ],
   "source": [
    "# Create a Time class and initialize it with hours and minutes.\n",
    "# 1. Make a method addTime which should take two time object and add\n",
    "# them. E.g.- (2 hour and 50 min)+(1 hr and 20 min) is (4 hr and 10 min)\n",
    "# 2. Make a method displayTime which should print the time.\n",
    "# 3. Make a method DisplayMinute which should display the total minutes\n",
    "# in the Time. E.g.- (1 hr 2 min) should display 62 minute.\n",
    "\n",
    "class Time:\n",
    "    hours=00\n",
    "    minutes=00\n",
    "    def __init__(self):\n",
    "        self.hours = 2\n",
    "        self.minutes = 42\n",
    "    \n",
    "    def addTime(self,time2):\n",
    "        hrs = self.hours + time2.hours\n",
    "        mins = self.minutes + time2.minutes\n",
    "        if mins>=60:\n",
    "            hrs+= mins//60\n",
    "            mins = mins%60\n",
    "        print(hrs,mins)\n",
    "    def displayTime(self):\n",
    "        print(self.hours,self.minutes)\n",
    "    def displayMinute(self):\n",
    "        print(self.hours*60 + self.minutes)\n",
    "        \n",
    "tim1 = Time()\n",
    "tim2 = Time()\n",
    "tim1.displayTime()\n",
    "tim2.displayMinute()\n",
    "tim1.addTime(tim2)"
   ]
  },
  {
   "cell_type": "code",
   "execution_count": 5,
   "metadata": {},
   "outputs": [
    {
     "name": "stdout",
     "output_type": "stream",
     "text": [
      "6.0\n",
      "12\n"
     ]
    }
   ],
   "source": [
    "# Write a program to print the area and perimeter of a triangle having\n",
    "# sides of 3, 4 and 5 units by creating a class named 'Triangle' with a\n",
    "# function to print the area and perimeter.\n",
    "import math\n",
    "class Triangle:\n",
    "    def __init__(self):\n",
    "        self.sides = [3,4,5]\n",
    "    def printArea(self):\n",
    "        # print(  )\n",
    "        s = sum(self.sides)/2\n",
    "        area  = math.sqrt((s*(s-self.sides[0])*(s-self.sides[1])*(s-self.sides[2])))\n",
    "        print(area)\n",
    "    def printPerimeter(self):\n",
    "        print(sum(self.sides))\n",
    "tri = Triangle()\n",
    "tri.printArea()\n",
    "tri.printPerimeter()\n",
    "    "
   ]
  }
 ],
 "metadata": {
  "interpreter": {
   "hash": "139dadea33622d4f76fc5924f439f8755dc41930f26cac28fe57aefff7aee2a9"
  },
  "kernelspec": {
   "display_name": "Python 3.9.10 64-bit",
   "language": "python",
   "name": "python3"
  },
  "language_info": {
   "codemirror_mode": {
    "name": "ipython",
    "version": 3
   },
   "file_extension": ".py",
   "mimetype": "text/x-python",
   "name": "python",
   "nbconvert_exporter": "python",
   "pygments_lexer": "ipython3",
   "version": "3.9.10"
  },
  "orig_nbformat": 4
 },
 "nbformat": 4,
 "nbformat_minor": 2
}
