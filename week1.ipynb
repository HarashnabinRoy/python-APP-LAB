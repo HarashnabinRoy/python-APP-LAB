{
 "cells": [
  {
   "cell_type": "markdown",
   "metadata": {},
   "source": [
    "# PYTHON LAB EXPERIMENT 1\n"
   ]
  },
  {
   "cell_type": "markdown",
   "metadata": {},
   "source": [
    "##### EXP1"
   ]
  },
  {
   "cell_type": "code",
   "execution_count": 1,
   "metadata": {},
   "outputs": [
    {
     "name": "stdout",
     "output_type": "stream",
     "text": [
      "[1000, 1040, 1080, 1120, 1160, 1200, 1240, 1280, 1320, 1360, 1400, 1440, 1480, 1520, 1560, 1600, 1640, 1680, 1720, 1760, 1800, 1840, 1880, 1920, 1960, 2000]\n"
     ]
    }
   ],
   "source": [
    "# Write a Python program to find those numbers which are divisible by\n",
    "# 8 and multiple of 5, between 1000 and 2000 (both included)\n",
    "\n",
    "numbers = []\n",
    "for i in range(1000,2001):\n",
    "    if i%40==0:\n",
    "        numbers.append(i)\n",
    "        \n",
    "print(numbers)"
   ]
  },
  {
   "cell_type": "markdown",
   "metadata": {},
   "source": [
    "##### EXP2"
   ]
  },
  {
   "cell_type": "code",
   "execution_count": 2,
   "metadata": {},
   "outputs": [
    {
     "name": "stdout",
     "output_type": "stream",
     "text": [
      "6\n",
      "Wrong guess\n",
      "Wrong guess\n",
      "Wrong guess\n",
      "you guessed it right\n"
     ]
    }
   ],
   "source": [
    "# Write a Python program to guess a number between 1 to 9. Note : User\n",
    "# is prompted to enter a guess. If the user guesses wrong then the prompt\n",
    "# appears again until the guess is correct, on successful guess, user will get\n",
    "# a \"Well guessed!\" message, and the program will exit.\n",
    "\n",
    "\n",
    "import random\n",
    "tobeguessed  = random.randint(1,9)\n",
    "# print(tobeguessed)\n",
    "while(int(input())!=tobeguessed):\n",
    "    print(\"Wrong guess\")\n",
    "print(\"you guessed it right\")"
   ]
  },
  {
   "cell_type": "markdown",
   "metadata": {},
   "source": [
    "##### EXP3"
   ]
  },
  {
   "cell_type": "code",
   "execution_count": 5,
   "metadata": {},
   "outputs": [
    {
     "name": "stdout",
     "output_type": "stream",
     "text": [
      "* \n",
      "* * \n",
      "* * * \n",
      "* * * * \n",
      "* * * * * \n",
      "* * * * \n",
      "* * * \n",
      "* * \n",
      "* \n"
     ]
    }
   ],
   "source": [
    "# Write a Python program to construct the following pattern, using a nested\n",
    "# for loop.\n",
    "# *\n",
    "# * *\n",
    "# * * *\n",
    "# * * * *\n",
    "# * * * * *\n",
    "# * * * *\n",
    "# * * *\n",
    "# * *\n",
    "# *\n",
    "# NOTE n=5\n",
    "n = int(input())\n",
    "\n",
    "for i in range(1,n+1):\n",
    "    print(\"* \"*i)\n",
    "for i in range(n-1,0,-1):\n",
    "    print(\"* \"*(i))"
   ]
  },
  {
   "cell_type": "markdown",
   "metadata": {},
   "source": [
    "##### EXP4"
   ]
  },
  {
   "cell_type": "code",
   "execution_count": 7,
   "metadata": {},
   "outputs": [
    {
     "name": "stdout",
     "output_type": "stream",
     "text": [
      "Word: hello\n",
      "reverse Word using slicing: olleh\n",
      "reverse Word using loop: olleh\n"
     ]
    }
   ],
   "source": [
    "# Write a Python program that accepts a word from the user and reverse\n",
    "# it. ( should not use any functions)\n",
    "\n",
    "string = input(\"enter the word\")\n",
    "print(\"Word:\",string)\n",
    "\n",
    "string = string[::-1]\n",
    "print(\"reverse Word using slicing:\",string)\n",
    "string = string[::-1]\n",
    "\n",
    "temp=\"\"\n",
    "for i in range(len(string)):\n",
    "    temp+=string[len(string) - i-1]\n",
    "string = temp\n",
    "print(\"reverse Word using loop:\",string)"
   ]
  },
  {
   "cell_type": "markdown",
   "metadata": {},
   "source": [
    "##### EXP5"
   ]
  },
  {
   "cell_type": "code",
   "execution_count": 10,
   "metadata": {},
   "outputs": [
    {
     "name": "stdout",
     "output_type": "stream",
     "text": [
      "[[0, 0, 0, 0], [0, 1, 2, 3], [0, 2, 4, 6]]\n"
     ]
    }
   ],
   "source": [
    "# Write a Python program which takes two digits m (row) and n\n",
    "# (column) as input and generates a two-dimensional array. The element\n",
    "# value in the i-th row and j-th column of the array should be i*j. Note :\n",
    "# i = 0,1.., m-1\n",
    "# j = 0,1, n-1.\n",
    "# Test Data : Rows = 3, Columns = 4\n",
    "# Expected Result : [[0, 0, 0, 0], [0, 1, 2, 3], [0, 2, 4, 6]]\n",
    "\n",
    "rows = int(input())\n",
    "columns = int(input())\n",
    "arr=[]\n",
    "for i in range(rows):\n",
    "    subarr = []    \n",
    "    for j in range(columns):\n",
    "        subarr.append(i*j)\n",
    "    arr.append(subarr)\n",
    "print(arr)"
   ]
  },
  {
   "cell_type": "markdown",
   "metadata": {},
   "source": [
    "##### EXP6"
   ]
  },
  {
   "cell_type": "code",
   "execution_count": 11,
   "metadata": {},
   "outputs": [
    {
     "name": "stdout",
     "output_type": "stream",
     "text": [
      "Letters 6\n",
      "Digits 4\n"
     ]
    }
   ],
   "source": [
    "# # Write a Python program that accepts a string and calculate the number\n",
    "# # of digits and letters. \n",
    "\n",
    "# Sample Data : SRMIST 2022\n",
    "# Expected Output :\n",
    "# Letters 6\n",
    "# Digits 4\n",
    "\n",
    "string  = input()\n",
    "letters=0\n",
    "digits=0\n",
    "for i in string:\n",
    "    if i.isdigit():\n",
    "        digits+=1\n",
    "    elif i.isalpha():\n",
    "        letters+=1\n",
    "print(\"Letters\",letters)\n",
    "print(\"Digits\",digits)"
   ]
  },
  {
   "cell_type": "markdown",
   "metadata": {},
   "source": [
    "##### EXP7"
   ]
  },
  {
   "cell_type": "code",
   "execution_count": 13,
   "metadata": {},
   "outputs": [
    {
     "name": "stdout",
     "output_type": "stream",
     "text": [
      "Not a Valid Password\n"
     ]
    }
   ],
   "source": [
    "# Write a Python program to check the validity of password input by users.\n",
    "# Validation :\n",
    "# At least 1 letter between [a-z] and 1 letter between [A-Z].\n",
    "# At least 1 number between [0-9].\n",
    "# At least 1 character from [$#@].\n",
    "# Minimum length 6 characters.\n",
    "# Maximum length 16 characters.\n",
    "# Sample output\n",
    "# Input your password srmist@2017\n",
    "# Not a Valid Password\n",
    "# Input your password Srmist@2022\n",
    "# Valid Password\n",
    "\n",
    "password = input()\n",
    "\n",
    "numflag=False\n",
    "small = False\n",
    "caps = False\n",
    "special = False\n",
    "if(len(password)>16 or len(password)<6):\n",
    "    print(\"Not a Valid Password\")\n",
    "else:\n",
    "    leng = len(password)\n",
    "    leng-=1\n",
    "    if \"#\" in password or \"$\" in password or \"@\" in password:\n",
    "        special = True\n",
    "    # (not numflag)and (not small)and (not caps)and (not special) and\n",
    "    while( leng>=0):\n",
    "        if password[leng].isdigit():\n",
    "            numflag = True\n",
    "        if password[leng]<=\"z\" and password[leng]>='a':\n",
    "            small = True\n",
    "        if password[leng]<=\"Z\" and password[leng]>='A':\n",
    "            caps = True\n",
    "        leng-=1\n",
    "    if all([special,caps,small,numflag]):\n",
    "        print(\"Valid Password\")\n",
    "    else:\n",
    "        print(\"Not a Valid Password\")"
   ]
  },
  {
   "cell_type": "markdown",
   "metadata": {},
   "source": [
    "##### EXP8"
   ]
  },
  {
   "cell_type": "code",
   "execution_count": 14,
   "metadata": {},
   "outputs": [
    {
     "name": "stdout",
     "output_type": "stream",
     "text": [
      "[200, 202, 204, 206, 208, 220, 222, 224, 226, 228, 240, 242, 244, 246, 248, 260, 262, 264, 266, 268, 280, 282, 284, 286, 288, 400]\n"
     ]
    }
   ],
   "source": [
    "# Write a Python program to find numbers between 100 and 400 (both\n",
    "# included) where each digit of a number is an even number. The numbers\n",
    "# obtained should be printed in a comma-separated sequence.\n",
    "lst=[]\n",
    "for i in range(100,401):\n",
    "    word = str(i)\n",
    "    for j in word:\n",
    "        if int(j)%2 !=0:\n",
    "            break\n",
    "    else:\n",
    "        lst.append(i)\n",
    "print(lst)"
   ]
  },
  {
   "cell_type": "markdown",
   "metadata": {},
   "source": [
    "##### EXP9 "
   ]
  },
  {
   "cell_type": "code",
   "execution_count": null,
   "metadata": {},
   "outputs": [],
   "source": [
    "# Write a Python program to convert month name to a number of days.\n",
    "# NOTE Question ot clear\n",
    "\n",
    "mon = input().lower()\n",
    "if(mon in [\"january\",\"march\",\"may\",\"july\",\"august\",\"october\",\"december\"]):\n",
    "    print(\"no od days: 31\")\n",
    "elif mon==\"february\":\n",
    "    print(\"no of days:28\")\n",
    "else:\n",
    "    print(\"no of days 30\")"
   ]
  },
  {
   "cell_type": "markdown",
   "metadata": {},
   "source": [
    "##### EXP10"
   ]
  },
  {
   "cell_type": "code",
   "execution_count": 12,
   "metadata": {},
   "outputs": [
    {
     "name": "stdout",
     "output_type": "stream",
     "text": [
      "200\n"
     ]
    }
   ],
   "source": [
    "# Write a Python program to sum of two given integers. However, if the\n",
    "# sum is between 105 to 200 it will return 200.\n",
    "num1 = int(input())\n",
    "num2 = int(input())\n",
    "if num1+num2>105 and num1+num2<200:\n",
    "    print(200)\n",
    "else:\n",
    "    print(num1+num2)"
   ]
  },
  {
   "cell_type": "markdown",
   "metadata": {},
   "source": [
    "##### EXP11"
   ]
  },
  {
   "cell_type": "code",
   "execution_count": 15,
   "metadata": {},
   "outputs": [
    {
     "name": "stdout",
     "output_type": "stream",
     "text": [
      "999999999\n",
      "88888888\n",
      "7777777\n",
      "666666\n",
      "55555\n",
      "4444\n",
      "333\n",
      "22\n",
      "1\n"
     ]
    }
   ],
   "source": [
    "# Write a Python program to construct the following pattern, using a\n",
    "# nested loop number.\n",
    "# Expected Output:\n",
    "# 999999999\n",
    "# 88888888\n",
    "# 7777777\n",
    "# 666666\n",
    "# 55555\n",
    "# 4444\n",
    "# 333\n",
    "# 22\n",
    "# 1\n",
    "\n",
    "for i in range(9,0,-1):\n",
    "    for j in range(i):\n",
    "        print(i,end=\"\")\n",
    "    print()"
   ]
  },
  {
   "cell_type": "markdown",
   "metadata": {},
   "source": [
    "##### EXP12"
   ]
  },
  {
   "cell_type": "code",
   "execution_count": 9,
   "metadata": {},
   "outputs": [
    {
     "name": "stdout",
     "output_type": "stream",
     "text": [
      "1 ***\n",
      "2 **\n",
      "3 *\n"
     ]
    }
   ],
   "source": [
    "# Write a Python program to create a histogram from a given list of\n",
    "# integers\n",
    "\n",
    "lst = list(map(int,input().split()))\n",
    "for i,j in enumerate(lst):\n",
    "    print(i+1,\"*\"*j)"
   ]
  },
  {
   "cell_type": "markdown",
   "metadata": {},
   "source": [
    "##### EXP13"
   ]
  },
  {
   "cell_type": "code",
   "execution_count": 27,
   "metadata": {},
   "outputs": [
    {
     "data": {
      "text/plain": [
       "True"
      ]
     },
     "execution_count": 27,
     "metadata": {},
     "output_type": "execute_result"
    }
   ],
   "source": [
    "# Write a Python program that will return true if the two given integer\n",
    "# values are equal or their sum or difference is 5.\n",
    "\n",
    "def fun(num1,num2):\n",
    "    if num1==num2:\n",
    "        return True\n",
    "    elif abs(num1-num2)==5 or num1+num2==5:\n",
    "        return True\n",
    "    return False\n",
    "fun(1,4)"
   ]
  },
  {
   "cell_type": "markdown",
   "metadata": {},
   "source": [
    "##### EXP14"
   ]
  },
  {
   "cell_type": "code",
   "execution_count": 14,
   "metadata": {},
   "outputs": [
    {
     "data": {
      "text/plain": [
       "9.0"
      ]
     },
     "execution_count": 14,
     "metadata": {},
     "output_type": "execute_result"
    }
   ],
   "source": [
    "# Write a Python program to compute the distance between the points\n",
    "# (x1, y1) and (x2, y2).\n",
    "\n",
    "import math\n",
    "def dist(x1,y1,x2,y2):\n",
    "    return round(math.sqrt( (x1-x2)**2 + (y1-y2)**2),2)\n",
    "dist(1,10,10,10)"
   ]
  },
  {
   "cell_type": "markdown",
   "metadata": {},
   "source": [
    "##### EXP15"
   ]
  },
  {
   "cell_type": "code",
   "execution_count": 29,
   "metadata": {},
   "outputs": [
    {
     "name": "stdout",
     "output_type": "stream",
     "text": [
      "Duplicates present\n"
     ]
    }
   ],
   "source": [
    "# Function that takes a sequence of numbers and determines whether\n",
    "# all are different from each other\n",
    "\n",
    "a = input()\n",
    "for i in range(len(a)):\n",
    "    if a[i] in a[i+1:] :\n",
    "        print(\"Duplicates present\")\n",
    "        break\n",
    "else:\n",
    "    print(\"All are Distinct\")"
   ]
  },
  {
   "cell_type": "markdown",
   "metadata": {},
   "source": [
    "##### EXP16"
   ]
  },
  {
   "cell_type": "code",
   "execution_count": 37,
   "metadata": {},
   "outputs": [
    {
     "name": "stdout",
     "output_type": "stream",
     "text": [
      "{'a': 3, 'b': 1, 's': 1, 'd': 1}\n"
     ]
    }
   ],
   "source": [
    "# Write a Python program to count the number of each character of a\n",
    "# given text\n",
    "d ={}\n",
    "string  = input()\n",
    "for i in string:\n",
    "    if i in d:\n",
    "        d[i]+=1\n",
    "    else:\n",
    "        d[i]=1\n",
    "print(d)"
   ]
  },
  {
   "cell_type": "markdown",
   "metadata": {},
   "source": [
    "##### EXP17"
   ]
  },
  {
   "cell_type": "code",
   "execution_count": 17,
   "metadata": {},
   "outputs": [
    {
     "name": "stdout",
     "output_type": "stream",
     "text": [
      "99\n",
      "81\n",
      "72\n",
      "63\n",
      "54\n",
      "45\n",
      "36\n",
      "27\n",
      "18\n",
      "9\n",
      "0\n"
     ]
    }
   ],
   "source": [
    "# Write a Python program that accept a positive number and subtract\n",
    "# from this number the sum of its digits and so on. Continues this operation\n",
    "# until the number is positive.\n",
    "\n",
    "# NOTE Question not clear\n",
    "\n",
    "num = int(input())\n",
    "while(num>0):\n",
    "    word = str(num)\n",
    "    summ = 0\n",
    "    for i in word:\n",
    "        summ+= int(i)\n",
    "    num-=summ\n",
    "    print(num)"
   ]
  },
  {
   "cell_type": "markdown",
   "metadata": {},
   "source": [
    "##### EXP18"
   ]
  },
  {
   "cell_type": "code",
   "execution_count": 18,
   "metadata": {},
   "outputs": [
    {
     "name": "stdout",
     "output_type": "stream",
     "text": [
      "missing digits are [0, 1, 6, 7, 8, 9]\n"
     ]
    }
   ],
   "source": [
    "# Write a Python program to find the digits which are absent in a given\n",
    "# mobile number.\n",
    "phone = input()\n",
    "missinglst = []\n",
    "for i in range(10):\n",
    "    if str(i) not in phone:\n",
    "        missinglst.append(i)\n",
    "print(\"missing digits are\",missinglst)"
   ]
  },
  {
   "cell_type": "markdown",
   "metadata": {},
   "source": [
    "##### EXP19"
   ]
  },
  {
   "cell_type": "code",
   "execution_count": 24,
   "metadata": {},
   "outputs": [
    {
     "data": {
      "text/plain": [
       "1001"
      ]
     },
     "execution_count": 24,
     "metadata": {},
     "output_type": "execute_result"
    }
   ],
   "source": [
    "# Write a Python program to reverse the digits of a given number and\n",
    "# add it to the original, If the sum is not a palindrome repeat this procedure\n",
    "\n",
    "def add_reverse(n):\n",
    "    s = 0\n",
    "    while True:\n",
    "        k = str(n)\n",
    "        if k == k[::-1]:\n",
    "            break\n",
    "        else:\n",
    "            n+=int(k[::-1])\n",
    "            s+=1\n",
    "    return n\n",
    "add_reverse(1000)"
   ]
  },
  {
   "cell_type": "code",
   "execution_count": 27,
   "metadata": {},
   "outputs": [
    {
     "name": "stdout",
     "output_type": "stream",
     "text": [
      "length of the series is:5\n"
     ]
    }
   ],
   "source": [
    "# 20\n",
    "\n",
    "t3 = int(input(\"third term of series\"))\n",
    "tlt3 =int(input(\"input of 3rd last term\"))\n",
    "s_sum = int(input(\"sum of series\"))\n",
    "n = ((2*s_sum)//(t3+tlt3))\n",
    "print(f\"length of the series is:{(n)}\")"
   ]
  },
  {
   "cell_type": "markdown",
   "metadata": {},
   "source": [
    "# WEEK 2"
   ]
  },
  {
   "cell_type": "markdown",
   "metadata": {},
   "source": [
    "## Q1"
   ]
  },
  {
   "cell_type": "code",
   "execution_count": 30,
   "metadata": {},
   "outputs": [
    {
     "name": "stdout",
     "output_type": "stream",
     "text": [
      "olleh\n"
     ]
    }
   ],
   "source": [
    "# Given a string, find its mirroring image\n",
    "print(input()[::-1])"
   ]
  },
  {
   "cell_type": "markdown",
   "metadata": {},
   "source": [
    "Q2"
   ]
  },
  {
   "cell_type": "code",
   "execution_count": 36,
   "metadata": {},
   "outputs": [
    {
     "name": "stdout",
     "output_type": "stream",
     "text": [
      "['r', 'm', 'i', 's', 't', 's'] ['t', 's', 'r', 'm', 'i', 's']\n",
      "['m', 'i', 's', 't', 's', 'r'] ['t', 's', 'r', 'm', 'i', 's']\n",
      "['i', 's', 't', 's', 'r', 'm'] ['t', 's', 'r', 'm', 'i', 's']\n",
      "['s', 't', 's', 'r', 'm', 'i'] ['t', 's', 'r', 'm', 'i', 's']\n",
      "['t', 's', 'r', 'm', 'i', 's'] ['t', 's', 'r', 'm', 'i', 's']\n",
      "yes\n",
      "['s', 'r', 'm', 'i', 's', 't'] ['t', 's', 'r', 'm', 'i', 's']\n"
     ]
    }
   ],
   "source": [
    "# Check if two strings are Rotationally Equivalent\n",
    "# Sample Output\n",
    "# string 1 is : srmist\n",
    "# string 2 is : tsrmis\n",
    "# Are two strings Rotationally equal ? : True\n",
    "\n",
    "string = list(input())\n",
    "rottring = list(input())\n",
    "for i in range(len(string)):\n",
    "    string = string[1:] + [string[0]]\n",
    "    # print(string,rottring)\n",
    "    if string == rottring:\n",
    "        print(\"yes\") "
   ]
  },
  {
   "cell_type": "markdown",
   "metadata": {},
   "source": [
    "Q3"
   ]
  },
  {
   "cell_type": "code",
   "execution_count": 38,
   "metadata": {},
   "outputs": [
    {
     "name": "stdout",
     "output_type": "stream",
     "text": [
      "1010\n"
     ]
    }
   ],
   "source": [
    "# Given a number n, the task is to generate a random binary string of length n.\n",
    "num = int(input())\n",
    "import random\n",
    "string=\"\"\n",
    "for i in range(num):\n",
    "    string+= str(random.randint(0,1))\n",
    "print(string)"
   ]
  }
 ],
 "metadata": {
  "interpreter": {
   "hash": "139dadea33622d4f76fc5924f439f8755dc41930f26cac28fe57aefff7aee2a9"
  },
  "kernelspec": {
   "display_name": "Python 3.9.10 64-bit",
   "language": "python",
   "name": "python3"
  },
  "language_info": {
   "codemirror_mode": {
    "name": "ipython",
    "version": 3
   },
   "file_extension": ".py",
   "mimetype": "text/x-python",
   "name": "python",
   "nbconvert_exporter": "python",
   "pygments_lexer": "ipython3",
   "version": "3.9.10"
  },
  "orig_nbformat": 4
 },
 "nbformat": 4,
 "nbformat_minor": 2
}
