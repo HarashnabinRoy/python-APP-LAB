{
 "cells": [
  {
   "cell_type": "code",
   "execution_count": 1,
   "metadata": {},
   "outputs": [
    {
     "name": "stdout",
     "output_type": "stream",
     "text": [
      "the mirror is dsa\n"
     ]
    }
   ],
   "source": [
    "#Q1\n",
    "print(\"the mirror is\",input()[::-1])\n"
   ]
  },
  {
   "cell_type": "code",
   "execution_count": 2,
   "metadata": {},
   "outputs": [],
   "source": [
    "# Q2\n",
    "str1=input(\"enter string 1: \")\n",
    "str2=input(\"enter string 2: \")\n",
    "for i in range(len(str1)):\n",
    "    if str1[i: ]+str1[ :i]==str2:\n",
    "        print(True)\n"
   ]
  },
  {
   "cell_type": "code",
   "execution_count": 17,
   "metadata": {},
   "outputs": [
    {
     "name": "stdout",
     "output_type": "stream",
     "text": [
      "The original string is : hello! this is, srinaath.!\n",
      "The string after punctuation filter : hellothisissrinaath\n"
     ]
    }
   ],
   "source": [
    "#  Q4\n",
    "# Python3 code to demonstrate working of\n",
    "# Removing punctuations in string\n",
    "# Using loop + punctuation string\n",
    "\n",
    "# initializing string\n",
    "test_str = \"hello! this is, srinaath.!\"\n",
    "\n",
    "# printing original string\n",
    "print(\"The original string is : \" + test_str)\n",
    "\n",
    "# initializing punctuations string\n",
    "punc = \"\"\" !()-[]{};:'\"\\,<>./?@#$%^&*_~  \"\"\"\n",
    "\n",
    "# Removing punctuations in string\n",
    "# Using loop + punctuation string\n",
    "for ele in test_str:\n",
    "\tif ele in punc:\n",
    "\t\ttest_str = test_str.replace(ele, \"\")\n",
    "\n",
    "# printing result\n",
    "print(\"The string after punctuation filter : \" + test_str)\n"
   ]
  },
  {
   "cell_type": "code",
   "execution_count": 3,
   "metadata": {},
   "outputs": [
    {
     "name": "stdout",
     "output_type": "stream",
     "text": [
      "001\n"
     ]
    }
   ],
   "source": [
    "# Q3\n",
    "import random\n",
    "import string\n",
    "n = int(input(\"enter the no of key\")); str1=\"\"\n",
    "for i in range(n):\n",
    "    # print(str(random.randint(0,1)),end=\"\")\n",
    "    str1 += str(random.randint(0,1))\n",
    "print(str1)"
   ]
  },
  {
   "cell_type": "code",
   "execution_count": 6,
   "metadata": {},
   "outputs": [
    {
     "data": {
      "text/plain": [
       "[(1, 2, 3)]"
      ]
     },
     "execution_count": 6,
     "metadata": {},
     "output_type": "execute_result"
    }
   ],
   "source": [
    "list(zip([1],[2],[3]))"
   ]
  },
  {
   "cell_type": "code",
   "execution_count": 4,
   "metadata": {},
   "outputs": [
    {
     "name": "stdout",
     "output_type": "stream",
     "text": [
      "(36, 9, 28, 34)\n"
     ]
    }
   ],
   "source": [
    "# Q5 \n",
    "t1 = (11,2,3,14)\n",
    "t2 = (13,5,22,10)\n",
    "t3 = (12,2,3,10)\n",
    "t4=tuple(map(sum,zip(t1,t2,t3)))\n",
    "print(t4)"
   ]
  },
  {
   "cell_type": "code",
   "execution_count": 5,
   "metadata": {},
   "outputs": [
    {
     "name": "stdout",
     "output_type": "stream",
     "text": [
      "[('',), ('a', 'b'), ('a', 'b', 'c'), 'd']\n"
     ]
    }
   ],
   "source": [
    "# Q6 \n",
    "L = [(), (), ('',), ('a', 'b'), ('a', 'b', 'c'), ('d')]\n",
    "L = [t for t in L if t]\n",
    "print(L)"
   ]
  },
  {
   "cell_type": "code",
   "execution_count": 12,
   "metadata": {},
   "outputs": [
    {
     "name": "stdout",
     "output_type": "stream",
     "text": [
      "()\n",
      "()\n",
      "('',)\n",
      "('a', 'b')\n",
      "('a', 'b', 'c')\n",
      "d\n",
      "[(), (), ('',), ('a', 'b'), ('a', 'b', 'c'), 'd']\n"
     ]
    }
   ],
   "source": [
    "L = [(), (), ('',), ('a', 'b'), ('a', 'b', 'c'), ('d')]\n",
    "for i in L:\n",
    "    print(i)\n",
    "    if i==():\n",
    "        # L.remove(())\n",
    "        pass\n",
    "print(L)"
   ]
  },
  {
   "cell_type": "code",
   "execution_count": 18,
   "metadata": {},
   "outputs": [
    {
     "name": "stdout",
     "output_type": "stream",
     "text": [
      "3\n"
     ]
    }
   ],
   "source": [
    "# Q7\n",
    "num = [10,20,30,(10,20),40]\n",
    "ctr = 0\n",
    "for n in num:\n",
    "    if type(n) == type((1,2)):\n",
    "        break\n",
    "    ctr += 1\n",
    "print(ctr)"
   ]
  },
  {
   "cell_type": "code",
   "execution_count": 19,
   "metadata": {},
   "outputs": [],
   "source": [
    "# Q8 \n",
    "t1 = [[(9, 51), (7, 9)], [(11, 1), (22, 19)]]\n"
   ]
  },
  {
   "cell_type": "code",
   "execution_count": 10,
   "metadata": {},
   "outputs": [
    {
     "name": "stdout",
     "output_type": "stream",
     "text": [
      "No. of unique elements: 2\n"
     ]
    }
   ],
   "source": [
    "# Q9 \n",
    "in_list = []\n",
    "list1 = []\n",
    "count=0\n",
    "n= int(input(\"Enter no. of elements:  \"))\n",
    "\n",
    "for i in range(0,n):\n",
    "    x=int(input(\"Enter elements: \"))\n",
    "    in_list.append(x)\n",
    "\n",
    "for item in in_list:\n",
    "    if item not in list1:\n",
    "        count += 1\n",
    "        list1.append(item)\n",
    "\n",
    "print(\"No. of unique elements:\",count)"
   ]
  },
  {
   "cell_type": "code",
   "execution_count": 11,
   "metadata": {},
   "outputs": [
    {
     "name": "stdout",
     "output_type": "stream",
     "text": [
      "[2, 4, 6, 8]\n"
     ]
    }
   ],
   "source": [
    "# Q11 \n",
    "def is_even_num(l):\n",
    "    enum = []\n",
    "    for n in l:\n",
    "        if n % 2 == 0:\n",
    "            enum.append(n)\n",
    "    return enum\n",
    "print(is_even_num([1, 2, 3, 4, 5, 6, 7, 8, 9]))"
   ]
  },
  {
   "cell_type": "code",
   "execution_count": 14,
   "metadata": {},
   "outputs": [
    {
     "name": "stdout",
     "output_type": "stream",
     "text": [
      " is string palindrime False\n"
     ]
    }
   ],
   "source": [
    "# Q12\n",
    "def isPalindrome(string):\n",
    "\tleft_pos = 0\n",
    "\tright_pos = len(string) - 1\n",
    "\t\n",
    "\twhile right_pos >= left_pos:\n",
    "\t\tif not string[left_pos] == string[right_pos]:\n",
    "\t\t\treturn False\n",
    "\t\tleft_pos += 1\n",
    "\t\tright_pos -= 1\n",
    "\treturn True\n",
    "string = input(\"enter string: \")\n",
    "\n",
    "print(\" is string palindrime\",isPalindrome(string))"
   ]
  },
  {
   "cell_type": "code",
   "execution_count": 16,
   "metadata": {},
   "outputs": [
    {
     "name": "stdout",
     "output_type": "stream",
     "text": [
      "22 it's not a prime\n"
     ]
    }
   ],
   "source": [
    "# Q13\n",
    "x=int(input(\"Enter a number: \"))\n",
    "\n",
    "def check_prime(num):\n",
    "    flag=False\n",
    "    if num>1:\n",
    "        for i in range(2,num):\n",
    "            if (num%i)==0:\n",
    "                flag=True\n",
    "                break\n",
    "    if flag:\n",
    "         print(x,\"it's not a prime\")\n",
    "    else:\n",
    "        print(x,\"It's a prime\")\n",
    "\n",
    "check_prime(x)"
   ]
  }
 ],
 "metadata": {
  "interpreter": {
   "hash": "139dadea33622d4f76fc5924f439f8755dc41930f26cac28fe57aefff7aee2a9"
  },
  "kernelspec": {
   "display_name": "Python 3.9.10 64-bit",
   "language": "python",
   "name": "python3"
  },
  "language_info": {
   "codemirror_mode": {
    "name": "ipython",
    "version": 3
   },
   "file_extension": ".py",
   "mimetype": "text/x-python",
   "name": "python",
   "nbconvert_exporter": "python",
   "pygments_lexer": "ipython3",
   "version": "3.9.10"
  },
  "orig_nbformat": 4
 },
 "nbformat": 4,
 "nbformat_minor": 2
}
